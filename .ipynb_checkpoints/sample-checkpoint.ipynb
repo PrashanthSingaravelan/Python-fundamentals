{
 "cells": [
  {
   "cell_type": "code",
   "execution_count": 11,
   "id": "c5d89b4d",
   "metadata": {},
   "outputs": [],
   "source": [
    "list1 = [30,40,10,20,50]\n",
    "\n",
    "for i in range(len(list1)):\n",
    "    for j in range(len(list1)):\n",
    "        if (list1[i]<list1[j]):\n",
    "            list1[i],list1[j] = list1[j],list1[i]"
   ]
  },
  {
   "cell_type": "code",
   "execution_count": 10,
   "id": "91597073",
   "metadata": {},
   "outputs": [
    {
     "data": {
      "text/plain": [
       "[10, 20, 30, 40, 50]"
      ]
     },
     "execution_count": 10,
     "metadata": {},
     "output_type": "execute_result"
    }
   ],
   "source": [
    "list1"
   ]
  },
  {
   "cell_type": "code",
   "execution_count": 1,
   "id": "f6cd62b1",
   "metadata": {},
   "outputs": [],
   "source": [
    "from deep_translator import GoogleTranslator\n",
    "from gtts import gTTS \n",
    "import os"
   ]
  },
  {
   "cell_type": "code",
   "execution_count": 2,
   "id": "3b841ada",
   "metadata": {},
   "outputs": [],
   "source": [
    "user_text = \"hello\""
   ]
  },
  {
   "cell_type": "code",
   "execution_count": 4,
   "id": "f3162b59",
   "metadata": {},
   "outputs": [],
   "source": [
    "translate = GoogleTranslator(source='auto', target='fr').translate(user_text)\n"
   ]
  },
  {
   "cell_type": "code",
   "execution_count": null,
   "id": "34c6317c",
   "metadata": {},
   "outputs": [],
   "source": [
    "pronounce = gTTS(text = user_text, lang = user_target, slow = False)\n",
    "print(\"hello\")\n",
    "pronounce.save(\"static/sample.mp3\")       ## saving the converted speech\n",
    "return render_template(\"output.html\", filename = pronounce)"
   ]
  },
  {
   "cell_type": "code",
   "execution_count": 5,
   "id": "1c570252",
   "metadata": {},
   "outputs": [
    {
     "data": {
      "text/plain": [
       "'Bonjour'"
      ]
     },
     "execution_count": 5,
     "metadata": {},
     "output_type": "execute_result"
    }
   ],
   "source": [
    "translate"
   ]
  },
  {
   "cell_type": "code",
   "execution_count": 6,
   "id": "b81edadb",
   "metadata": {},
   "outputs": [
    {
     "data": {
      "text/plain": [
       "str"
      ]
     },
     "execution_count": 6,
     "metadata": {},
     "output_type": "execute_result"
    }
   ],
   "source": [
    "type(translate)"
   ]
  },
  {
   "cell_type": "code",
   "execution_count": 9,
   "id": "e8a07389",
   "metadata": {},
   "outputs": [
    {
     "name": "stdout",
     "output_type": "stream",
     "text": [
      "yes\n"
     ]
    }
   ],
   "source": [
    "if type(translate) == str:\n",
    "    print(\"yes\")\n",
    "else:\n",
    "    print(\"no\")"
   ]
  },
  {
   "cell_type": "code",
   "execution_count": 8,
   "id": "48971f23",
   "metadata": {},
   "outputs": [
    {
     "data": {
      "text/plain": [
       "True"
      ]
     },
     "execution_count": 8,
     "metadata": {},
     "output_type": "execute_result"
    }
   ],
   "source": [
    "isinstance(translate,str)"
   ]
  },
  {
   "cell_type": "code",
   "execution_count": 10,
   "id": "8daa3a14",
   "metadata": {},
   "outputs": [],
   "source": [
    "file = 'audio'"
   ]
  },
  {
   "cell_type": "code",
   "execution_count": 11,
   "id": "1fedfddf",
   "metadata": {},
   "outputs": [
    {
     "name": "stdout",
     "output_type": "stream",
     "text": [
      "hello\n"
     ]
    }
   ],
   "source": [
    "if file == 'audio':\n",
    "    print(\"hello\")\n",
    "else:\n",
    "    print(\"waste\")"
   ]
  },
  {
   "cell_type": "code",
   "execution_count": 5,
   "id": "09cf10ed",
   "metadata": {},
   "outputs": [
    {
     "name": "stdout",
     "output_type": "stream",
     "text": [
      "po -\n",
      "\n",
      "“Actas if what\n",
      "you do makes\n",
      "a difference.\n",
      "IT DOES.”\n",
      "\n",
      "WILLIAM JAMES\n",
      "\n",
      "| _\n",
      "\n",
      "GH\n",
      "\f",
      "\n"
     ]
    }
   ],
   "source": [
    "import pytesseract\n",
    "import cv2\n",
    "import os\n",
    "from PIL import Image\n",
    "\n",
    "pytesseract.pytesseract.tesseract_cmd = r'C:\\Program Files\\Tesseract-OCR\\tesseract.exe'\n",
    "\n",
    "image = Image.open('sample_1.jpg')\n",
    "text_img = pytesseract.image_to_string(image)\n",
    "print(text_img)\n"
   ]
  },
  {
   "cell_type": "code",
   "execution_count": 6,
   "id": "5413fa01",
   "metadata": {},
   "outputs": [
    {
     "name": "stdout",
     "output_type": "stream",
     "text": [
      "<PIL.JpegImagePlugin.JpegImageFile image mode=RGB size=853x1280 at 0x29F60FE0BB0>\n"
     ]
    }
   ],
   "source": [
    "print(image)"
   ]
  },
  {
   "cell_type": "code",
   "execution_count": 8,
   "id": "0f2ebd9c",
   "metadata": {},
   "outputs": [
    {
     "name": "stdout",
     "output_type": "stream",
     "text": [
      "po -\n",
      "\n",
      "“Actas if what\n",
      "you do makes\n",
      "a difference.\n",
      "IT DOES.”\n",
      "\n",
      "WILLIAM JAMES\n",
      "\n",
      "| _\n",
      "\n",
      "GH\n",
      "\f",
      "\n"
     ]
    }
   ],
   "source": [
    "print(text_img)"
   ]
  },
  {
   "cell_type": "code",
   "execution_count": 11,
   "id": "7e439410",
   "metadata": {},
   "outputs": [],
   "source": [
    "str1 = 'hello'"
   ]
  },
  {
   "cell_type": "code",
   "execution_count": null,
   "id": "9d138b93",
   "metadata": {},
   "outputs": [],
   "source": []
  }
 ],
 "metadata": {
  "kernelspec": {
   "display_name": "Python 3",
   "language": "python",
   "name": "python3"
  },
  "language_info": {
   "codemirror_mode": {
    "name": "ipython",
    "version": 3
   },
   "file_extension": ".py",
   "mimetype": "text/x-python",
   "name": "python",
   "nbconvert_exporter": "python",
   "pygments_lexer": "ipython3",
   "version": "3.8.8"
  }
 },
 "nbformat": 4,
 "nbformat_minor": 5
}
