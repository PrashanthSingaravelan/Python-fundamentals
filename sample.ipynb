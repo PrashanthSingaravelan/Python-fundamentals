{
 "cells": [
  {
   "cell_type": "code",
   "execution_count": 11,
   "id": "c5d89b4d",
   "metadata": {},
   "outputs": [],
   "source": [
    "list1 = [30,40,10,20,50]\n",
    "\n",
    "for i in range(len(list1)):\n",
    "    for j in range(len(list1)):\n",
    "        if (list1[i]<list1[j]):\n",
    "            list1[i],list1[j] = list1[j],list1[i]"
   ]
  },
  {
   "cell_type": "code",
   "execution_count": 10,
   "id": "91597073",
   "metadata": {},
   "outputs": [
    {
     "data": {
      "text/plain": [
       "[10, 20, 30, 40, 50]"
      ]
     },
     "execution_count": 10,
     "metadata": {},
     "output_type": "execute_result"
    }
   ],
   "source": [
    "list1"
   ]
  },
  {
   "cell_type": "code",
   "execution_count": null,
   "id": "f3162b59",
   "metadata": {},
   "outputs": [],
   "source": []
  }
 ],
 "metadata": {
  "kernelspec": {
   "display_name": "Python 3",
   "language": "python",
   "name": "python3"
  },
  "language_info": {
   "codemirror_mode": {
    "name": "ipython",
    "version": 3
   },
   "file_extension": ".py",
   "mimetype": "text/x-python",
   "name": "python",
   "nbconvert_exporter": "python",
   "pygments_lexer": "ipython3",
   "version": "3.8.8"
  }
 },
 "nbformat": 4,
 "nbformat_minor": 5
}
